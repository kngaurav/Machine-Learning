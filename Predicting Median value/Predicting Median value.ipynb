{
 "cells": [
  {
   "cell_type": "markdown",
   "id": "fb018606",
   "metadata": {},
   "source": [
    "#### Importing NumPy library\n"
   ]
  },
  {
   "cell_type": "code",
   "execution_count": 1,
   "id": "850ea122",
   "metadata": {},
   "outputs": [],
   "source": [
    "import numpy as np"
   ]
  },
  {
   "cell_type": "markdown",
   "id": "190c9a7c",
   "metadata": {},
   "source": [
    "#### Importing phi and phi_test from train and test datasets respectively using NumPy's loadtxt function\n"
   ]
  },
  {
   "cell_type": "code",
   "execution_count": 2,
   "id": "dcac50f9",
   "metadata": {},
   "outputs": [],
   "source": [
    "# Import phi from train data set\n",
    "\n",
    "phi = np.loadtxt('train.csv', dtype='float', delimiter=',', skiprows=1, usecols=tuple(range(1, 14)))"
   ]
  },
  {
   "cell_type": "code",
   "execution_count": 3,
   "id": "e9e565f3",
   "metadata": {},
   "outputs": [],
   "source": [
    "# Import phi_test from test data set\n",
    "phi_test = np.loadtxt('test.csv', dtype='float', delimiter=',', skiprows=1, usecols=tuple(range(1, 14)))"
   ]
  },
  {
   "cell_type": "markdown",
   "id": "c6fc73c4",
   "metadata": {},
   "source": [
    "#### Importing y from train dataset using the loadtxt function"
   ]
  },
  {
   "cell_type": "code",
   "execution_count": 4,
   "id": "3114a719",
   "metadata": {},
   "outputs": [],
   "source": [
    "y = np.loadtxt('train.csv', dtype='float', delimiter=',', skiprows=1, usecols=14, ndmin=2)"
   ]
  },
  {
   "cell_type": "markdown",
   "id": "500cc887",
   "metadata": {},
   "source": [
    "#### Concatenate coloumn of 1s to right of phi and phi_test"
   ]
  },
  {
   "cell_type": "code",
   "execution_count": 5,
   "id": "0fc118e0",
   "metadata": {},
   "outputs": [],
   "source": [
    "phi_test = np.concatenate((phi_test, np.ones((105, 1))), axis=1)\n",
    "phi = np.concatenate((phi, np.ones((400, 1))), axis=1)"
   ]
  },
  {
   "cell_type": "markdown",
   "id": "d6623ece",
   "metadata": {},
   "source": [
    "#### Apply min max scaling on each coloumn of phi and phi_test"
   ]
  },
  {
   "cell_type": "code",
   "execution_count": 6,
   "id": "8047542e",
   "metadata": {},
   "outputs": [],
   "source": [
    "for i in range(0, 13):\n",
    "    col_max = max(phi[:, i])\n",
    "    col_min = min(phi[:, i])\n",
    "    phi[:, i] = (phi[:, i] - col_min) / (col_max - col_min)\n",
    "    phi_test[:, i] = (phi_test[:, i] - col_min) / (col_max - col_min)"
   ]
  },
  {
   "cell_type": "markdown",
   "id": "0850d740",
   "metadata": {},
   "source": [
    "#### Apply log scaling on y"
   ]
  },
  {
   "cell_type": "code",
   "execution_count": 7,
   "id": "09fe1957",
   "metadata": {},
   "outputs": [],
   "source": [
    "y = np.log(y)"
   ]
  },
  {
   "cell_type": "markdown",
   "id": "50d7b9c5",
   "metadata": {},
   "source": [
    "#### Define a function to calculate change in error function based on phi, w and p norm\n"
   ]
  },
  {
   "cell_type": "code",
   "execution_count": 8,
   "id": "a2aff8a8",
   "metadata": {},
   "outputs": [],
   "source": [
    "def delta_w(p, phi, w):\n",
    "    if p == 2:\n",
    "        deltaw = (2 * (np.dot(np.dot(np.transpose(phi), phi), w) -\n",
    "                       np.dot(np.transpose(phi), y)) +\n",
    "                  lambd * p * np.power(np.absolute(w), (p - 1)))\n",
    "    if p < 2 and p > 1:\n",
    "        deltaw = (2 * (np.dot(np.dot(np.transpose(phi), phi), w) -\n",
    "                       np.dot(np.transpose(phi), y)) +\n",
    "                  lambd * p * np.power(np.absolute(w), (p - 1)) * np.sign(w))\n",
    "    return deltaw"
   ]
  },
  {
   "cell_type": "markdown",
   "id": "6e777e25",
   "metadata": {},
   "source": [
    "#### Make a dictionary containing filenames as keys and p as values"
   ]
  },
  {
   "cell_type": "code",
   "execution_count": 9,
   "id": "7601e9d7",
   "metadata": {},
   "outputs": [],
   "source": [
    "filenames = {'output.csv': 2.0, 'output_p1.csv': 1.75, 'output_p2.csv': 1.5, 'output_p3.csv': 1.3}"
   ]
  },
  {
   "cell_type": "markdown",
   "id": "5d203faa",
   "metadata": {},
   "source": [
    "#### For each item in this dictionary:\n",
    "\n",
    "##### Set the w to all 0s\n"
   ]
  },
  {
   "cell_type": "code",
   "execution_count": 10,
   "id": "489a371c",
   "metadata": {},
   "outputs": [],
   "source": [
    "for (fname, p) in filenames.items():\n",
    "    w = np.zeros((14, 1))"
   ]
  },
  {
   "cell_type": "markdown",
   "id": "bec0d6e8",
   "metadata": {},
   "source": [
    "##### Set an appropriate value for lambda(Hyperparameter) and step size"
   ]
  },
  {
   "cell_type": "code",
   "execution_count": 11,
   "id": "b2f78cd6",
   "metadata": {},
   "outputs": [],
   "source": [
    "lambd = 0.2\n",
    "t = 0.00012 #Max step size"
   ]
  },
  {
   "cell_type": "markdown",
   "id": "1f0ae59a",
   "metadata": {},
   "source": [
    "##### Calculate new value of w"
   ]
  },
  {
   "cell_type": "code",
   "execution_count": 12,
   "id": "a3c5911c",
   "metadata": {},
   "outputs": [],
   "source": [
    "w_new = w - t * delta_w(p, phi, w)"
   ]
  },
  {
   "cell_type": "markdown",
   "id": "db5f5257",
   "metadata": {},
   "source": [
    "##### Repeat steps until error between consecutive ws is less than threshold\n"
   ]
  },
  {
   "cell_type": "code",
   "execution_count": 13,
   "id": "99e26d96",
   "metadata": {},
   "outputs": [],
   "source": [
    "i = 0\n",
    "while(np.linalg.norm(w_new-w) > 10 ** -10):\n",
    "        w = w_new\n",
    "        w_new = w - t * delta_w(p, phi, w)\n",
    "        i = i + 1 "
   ]
  },
  {
   "cell_type": "markdown",
   "id": "6d1810ff",
   "metadata": {},
   "source": [
    "##### Load values of id from test data file"
   ]
  },
  {
   "cell_type": "code",
   "execution_count": 14,
   "id": "093fb6c7",
   "metadata": {},
   "outputs": [],
   "source": [
    "id_test = np.loadtxt('test.csv', dtype='int', delimiter=',', skiprows=1, usecols=0, ndmin=2)"
   ]
  },
  {
   "cell_type": "markdown",
   "id": "b05b197a",
   "metadata": {},
   "source": [
    "##### Calculate y for test data using phi test and applying inverse log"
   ]
  },
  {
   "cell_type": "code",
   "execution_count": 15,
   "id": "26c402e7",
   "metadata": {},
   "outputs": [],
   "source": [
    "y_test = np.exp(np.dot(phi_test, w_new))"
   ]
  },
  {
   "cell_type": "markdown",
   "id": "260238e9",
   "metadata": {},
   "source": [
    "##### Save the ids and y according to filename from dictionary\n"
   ]
  },
  {
   "cell_type": "code",
   "execution_count": 16,
   "id": "ca88f998",
   "metadata": {},
   "outputs": [],
   "source": [
    "np.savetxt(fname, np.concatenate((id_test, y_test), axis=1), delimiter=',', fmt=['%d', '%f'], header='ID,MEDV', comments='')"
   ]
  },
  {
   "cell_type": "code",
   "execution_count": null,
   "id": "1eb178e4",
   "metadata": {},
   "outputs": [],
   "source": []
  },
  {
   "cell_type": "code",
   "execution_count": null,
   "id": "3b22701a",
   "metadata": {},
   "outputs": [],
   "source": []
  }
 ],
 "metadata": {
  "kernelspec": {
   "display_name": "Python 3 (ipykernel)",
   "language": "python",
   "name": "python3"
  },
  "language_info": {
   "codemirror_mode": {
    "name": "ipython",
    "version": 3
   },
   "file_extension": ".py",
   "mimetype": "text/x-python",
   "name": "python",
   "nbconvert_exporter": "python",
   "pygments_lexer": "ipython3",
   "version": "3.9.12"
  }
 },
 "nbformat": 4,
 "nbformat_minor": 5
}
